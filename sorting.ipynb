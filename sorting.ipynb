{
 "cells": [
  {
   "cell_type": "code",
   "execution_count": null,
   "metadata": {},
   "outputs": [],
   "source": [
    "# bubble sort\n",
    "\n",
    "def bubble_sort(my_list):\n",
    "    \n",
    "    for i in range(len(my_list)-1, 0, -1):\n",
    "        for idx in range(i):\n",
    "            if my_list[idx]  > my_list[idx + 1]:\n",
    "                my_list[idx], my_list[idx + 1] = my_list[idx + 1], my_list[idx]\n",
    "\n",
    "\n",
    "list = [19,2,31,45,6,11,121,27]\n",
    "bubble_sort(list)\n",
    "print(list)"
   ]
  },
  {
   "cell_type": "code",
   "execution_count": null,
   "metadata": {},
   "outputs": [],
   "source": [
    "# merge sort\n",
    "\n",
    "def merge_sort(unsorted_list):\n",
    "    if len(unsorted_list) <= 1: return unsorted_list\n",
    "    \n",
    "    middle = len(unsorted_list) // 2\n",
    "    left_list = unsorted_list[:middle]\n",
    "    right_list = unsorted_list[middle:]\n",
    "    \n",
    "    left_list = merge_sort(left_list)\n",
    "    right_list = merge_sort(right_list)\n",
    "    return list(merge(left_list, right_list))\n",
    "\n",
    "def merge(left_half, right_half):\n",
    "    res = []\n",
    "    while len(left_half) != 0 and len(right_half) != 0:\n",
    "        if left_half[0] < right_half[0]:\n",
    "            res.append(left_half[0])\n",
    "            left_half.remove(left_half[0])\n",
    "        else:\n",
    "            res.append(right_half[0])\n",
    "            right_half.remove(right_half[0])\n",
    "    if len(left_half) == 0:\n",
    "        res = res + right_half\n",
    "    else:\n",
    "        res = res + left_half\n",
    "    return res\n",
    "\n",
    "unsorted_list = [64, 34, 25, 12, 22, 11, 90]\n",
    "print(merge_sort(unsorted_list))\n",
    "            \n",
    "    \n",
    "\n",
    "\n",
    "\n",
    "    "
   ]
  },
  {
   "cell_type": "code",
   "execution_count": 12,
   "metadata": {},
   "outputs": [
    {
     "name": "stdout",
     "output_type": "stream",
     "text": [
      "flour = 250.0\n",
      "sugar = 227.3\n",
      "eggs = 3.0\n",
      "butter = 151.5\n",
      "milk = 189.4\n",
      "vanilla = 0.8\n"
     ]
    }
   ],
   "source": [
    "\n",
    "def get_recipe_given_flour_amount(recipe: dict, flour: float):\n",
    "    factor = flour / recipe[\"flour\"]\n",
    "    \n",
    "    for key, value in recipe.items():\n",
    "        print(f'{key} = {value * factor:.1f}')\n",
    "\n",
    "recipe = dict(\n",
    "    flour=330, \n",
    "    sugar=300, \n",
    "    eggs=4, \n",
    "    butter=200, \n",
    "    milk=250, \n",
    "    vanilla=1\n",
    ")    \n",
    "\n",
    "get_recipe_given_flour_amount(recipe, 250)\n"
   ]
  }
 ],
 "metadata": {
  "kernelspec": {
   "display_name": "Python 3",
   "language": "python",
   "name": "python3"
  },
  "language_info": {
   "codemirror_mode": {
    "name": "ipython",
    "version": 3
   },
   "file_extension": ".py",
   "mimetype": "text/x-python",
   "name": "python",
   "nbconvert_exporter": "python",
   "pygments_lexer": "ipython3",
   "version": "3.10.5"
  },
  "orig_nbformat": 4,
  "vscode": {
   "interpreter": {
    "hash": "369f2c481f4da34e4445cda3fffd2e751bd1c4d706f27375911949ba6bb62e1c"
   }
  }
 },
 "nbformat": 4,
 "nbformat_minor": 2
}
