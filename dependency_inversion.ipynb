{
 "cells": [
  {
   "attachments": {},
   "cell_type": "markdown",
   "metadata": {},
   "source": [
    "# Dependency inversion\n",
    "\n",
    "- Abstraction\n",
    "- Removing dependency\n",
    "- Better testing\n",
    "- Reduce coupling"
   ]
  },
  {
   "cell_type": "code",
   "execution_count": 1,
   "metadata": {},
   "outputs": [
    {
     "name": "stdout",
     "output_type": "stream",
     "text": [
      "Turning on\n",
      "Turning off\n"
     ]
    }
   ],
   "source": [
    "# Original code\n",
    "\n",
    "class LightBulb:\n",
    "    def turn_on(self):\n",
    "        print(\"Turning on\")\n",
    "        \n",
    "    def turn_off(self):\n",
    "        print(\"Turning off\")\n",
    "        \n",
    "\n",
    "class ElectricPowerSwitch:\n",
    "    \n",
    "    def __init__(self, l: LightBulb):\n",
    "        self.lightBulb = l\n",
    "        self.on = False\n",
    "        \n",
    "    def press(self):\n",
    "        if self.on:\n",
    "            self.lightBulb.turn_off()\n",
    "            self.on = False\n",
    "        else:\n",
    "            self.lightBulb.turn_on()\n",
    "            self.on = True\n",
    "            \n",
    "l = LightBulb()\n",
    "switch = ElectricPowerSwitch(l)\n",
    "switch.press()\n",
    "switch.press()\n",
    "\n",
    "            "
   ]
  },
  {
   "cell_type": "code",
   "execution_count": 6,
   "metadata": {},
   "outputs": [
    {
     "name": "stdout",
     "output_type": "stream",
     "text": [
      "Bulb: Turning on\n",
      "Fan: Turning on\n"
     ]
    }
   ],
   "source": [
    "# Abstract class\n",
    "from abc import ABC, abstractmethod\n",
    "\n",
    "class Switchable(ABC):\n",
    "    @abstractmethod\n",
    "    def turn_on(self): ...\n",
    "    \n",
    "    @abstractmethod\n",
    "    def turn_off(self): ...\n",
    "    \n",
    "\n",
    "class LightBulb(Switchable):\n",
    "    def turn_on(self):\n",
    "        print(\"Bulb: Turning on\")\n",
    "        \n",
    "    def turn_off(self):\n",
    "        print(\"Bulb: Turning off\")\n",
    "        \n",
    "\n",
    "class Fan(Switchable):\n",
    "    def turn_on(self):\n",
    "        print(\"Fan: Turning on\")\n",
    "        \n",
    "    def turn_off(self):\n",
    "        print(\"Fan: Turning off\")\n",
    "        \n",
    "    \n",
    "class ElectricPowerSwitch:\n",
    "    \n",
    "    def __init__(self, c: Switchable):\n",
    "        self.client = c\n",
    "        self.on = False\n",
    "        \n",
    "    def press(self):\n",
    "        if self.on:\n",
    "            self.client.turn_off()\n",
    "            self.on = False\n",
    "        else:\n",
    "            self.client.turn_on()\n",
    "            self.on = True\n",
    "            \n",
    "l = LightBulb()\n",
    "f = Fan()\n",
    "\n",
    "bulb_switch = ElectricPowerSwitch(l)\n",
    "fan_switch = ElectricPowerSwitch(f)\n",
    "\n",
    "bulb_switch.press()\n",
    "fan_switch.press()"
   ]
  }
 ],
 "metadata": {
  "kernelspec": {
   "display_name": "Python 3",
   "language": "python",
   "name": "python3"
  },
  "language_info": {
   "codemirror_mode": {
    "name": "ipython",
    "version": 3
   },
   "file_extension": ".py",
   "mimetype": "text/x-python",
   "name": "python",
   "nbconvert_exporter": "python",
   "pygments_lexer": "ipython3",
   "version": "3.10.5"
  },
  "orig_nbformat": 4,
  "vscode": {
   "interpreter": {
    "hash": "369f2c481f4da34e4445cda3fffd2e751bd1c4d706f27375911949ba6bb62e1c"
   }
  }
 },
 "nbformat": 4,
 "nbformat_minor": 2
}
